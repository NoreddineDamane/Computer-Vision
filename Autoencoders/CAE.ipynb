{
 "cells": [
  {
   "cell_type": "markdown",
   "id": "aed71555",
   "metadata": {},
   "source": [
    "# Convolutional autoencoder (CAE)"
   ]
  },
  {
   "cell_type": "markdown",
   "id": "97589ce7",
   "metadata": {},
   "source": [
    "## Required library"
   ]
  },
  {
   "cell_type": "code",
   "execution_count": 1,
   "id": "3be20afb",
   "metadata": {
    "scrolled": true
   },
   "outputs": [
    {
     "name": "stderr",
     "output_type": "stream",
     "text": [
      "2021-12-08 20:05:31.550750: W tensorflow/stream_executor/platform/default/dso_loader.cc:64] Could not load dynamic library 'libcudart.so.11.0'; dlerror: libcudart.so.11.0: cannot open shared object file: No such file or directory\n",
      "2021-12-08 20:05:31.550803: I tensorflow/stream_executor/cuda/cudart_stub.cc:29] Ignore above cudart dlerror if you do not have a GPU set up on your machine.\n"
     ]
    }
   ],
   "source": [
    "import numpy as np\n",
    "import pandas as pd\n",
    "import tensorflow as tf\n",
    "from tensorflow import keras\n",
    "from tensorflow.keras import layers\n",
    "import matplotlib.pyplot as plt\n",
    "from tensorflow.python.keras.preprocessing.image import ImageDataGenerator\n",
    "from sklearn.model_selection import StratifiedShuffleSplit\n",
    "from tensorflow.keras import layers"
   ]
  },
  {
   "cell_type": "markdown",
   "id": "f91006f8",
   "metadata": {},
   "source": [
    "# Load dataset and normalize data"
   ]
  },
  {
   "cell_type": "code",
   "execution_count": 2,
   "id": "5d67f2d8",
   "metadata": {},
   "outputs": [],
   "source": [
    "data = pd.read_csv('Mnist-digit/mnist.csv')\n",
    "y=data.pop('label')\n",
    "x=data\n",
    "x=x.values.reshape((-1,28,28,1)) /255.0 # normalize data"
   ]
  },
  {
   "cell_type": "markdown",
   "id": "a13ae260",
   "metadata": {},
   "source": [
    "## Train-Test Split"
   ]
  },
  {
   "cell_type": "code",
   "execution_count": 3,
   "id": "380b726f",
   "metadata": {
    "scrolled": true
   },
   "outputs": [
    {
     "name": "stdout",
     "output_type": "stream",
     "text": [
      "StratifiedShuffleSplit(n_splits=5, random_state=0, test_size=0.33,\n",
      "            train_size=None)\n",
      "TRAIN: [30512  3538 40571 ... 31149 25562 30468] TEST: [18527 12538 34481 ... 35846 26037  6952]\n",
      "TRAIN: [ 4806 20259 31193 ... 30115 26552 19138] TEST: [13022 10452 32436 ... 21135 34707 14791]\n",
      "TRAIN: [38342 19007  3097 ...  7655 37617 23869] TEST: [23472 36446 29580 ... 25953  6950 38604]\n",
      "TRAIN: [34245  2197 41386 ... 26851 36067 37364] TEST: [ 4778 16086 27235 ...  3346  6073 35709]\n",
      "TRAIN: [ 1605 37376 38709 ... 20374 26388 24728] TEST: [21681 14258 24661 ... 40966 17466 22461]\n"
     ]
    }
   ],
   "source": [
    "sss = StratifiedShuffleSplit(n_splits=5, test_size=0.33, random_state=0)\n",
    "sss.get_n_splits(x, y)\n",
    "print(sss)\n",
    "\n",
    "for train_index, test_index in sss.split(x, y):\n",
    "    print(\"TRAIN:\", train_index, \"TEST:\", test_index)\n",
    "    x_train, x_test = x[train_index], x[test_index]\n",
    "    y_train, y_test = y[train_index], y[test_index]"
   ]
  },
  {
   "cell_type": "markdown",
   "id": "121952cd",
   "metadata": {},
   "source": [
    "## Define Model"
   ]
  },
  {
   "cell_type": "code",
   "execution_count": 4,
   "id": "fcd015e6",
   "metadata": {
    "scrolled": true
   },
   "outputs": [
    {
     "name": "stderr",
     "output_type": "stream",
     "text": [
      "2021-12-08 20:06:01.655657: W tensorflow/stream_executor/platform/default/dso_loader.cc:64] Could not load dynamic library 'libcuda.so.1'; dlerror: libcuda.so.1: cannot open shared object file: No such file or directory\n",
      "2021-12-08 20:06:01.664679: W tensorflow/stream_executor/cuda/cuda_driver.cc:269] failed call to cuInit: UNKNOWN ERROR (303)\n",
      "2021-12-08 20:06:01.667482: I tensorflow/stream_executor/cuda/cuda_diagnostics.cc:156] kernel driver does not appear to be running on this host (920bc14734ab): /proc/driver/nvidia/version does not exist\n",
      "2021-12-08 20:06:01.688574: I tensorflow/core/platform/cpu_feature_guard.cc:142] This TensorFlow binary is optimized with oneAPI Deep Neural Network Library (oneDNN) to use the following CPU instructions in performance-critical operations:  AVX2 FMA\n",
      "To enable them in other operations, rebuild TensorFlow with the appropriate compiler flags.\n"
     ]
    }
   ],
   "source": [
    "keras.backend.clear_session()\n",
    "\n",
    "input_img = keras.Input(shape=(28, 28, 1))\n",
    "## encoder layers\n",
    "x = layers.Conv2D(16, (3, 3), activation='relu', padding='same')(input_img)\n",
    "x = layers.MaxPooling2D((2, 2), padding='same')(x)\n",
    "x = layers.Conv2D(8, (3, 3), activation='relu', padding='same')(x)\n",
    "x = layers.MaxPooling2D((2, 2), padding='same')(x)\n",
    "x = layers.Conv2D(8, (3, 3), activation='relu', padding='same')(x)\n",
    "encoded = layers.MaxPooling2D((2, 2), padding='same')(x)\n",
    "\n",
    "## decoder layers ##\n",
    "x = layers.Conv2D(8, (3, 3), activation='relu', padding='same')(encoded)\n",
    "x = layers.UpSampling2D((2, 2))(x)\n",
    "x = layers.Conv2D(8, (3, 3), activation='relu', padding='same')(x)\n",
    "x = layers.UpSampling2D((2, 2))(x)\n",
    "x = layers.Conv2D(16, (3, 3), activation='relu')(x)\n",
    "x = layers.UpSampling2D((2, 2))(x)\n",
    "decoded = layers.Conv2D(1, (3, 3), activation='sigmoid', padding='same')(x)"
   ]
  },
  {
   "cell_type": "markdown",
   "id": "3ad64bff",
   "metadata": {},
   "source": [
    "## Compile model"
   ]
  },
  {
   "cell_type": "code",
   "execution_count": 5,
   "id": "310e73b2",
   "metadata": {},
   "outputs": [],
   "source": [
    "autoencoder = keras.Model(input_img, decoded)\n",
    "autoencoder.compile(optimizer='adam', loss='binary_crossentropy')"
   ]
  },
  {
   "cell_type": "markdown",
   "id": "986613c2",
   "metadata": {},
   "source": [
    "## Train the convolutional autoencoder"
   ]
  },
  {
   "cell_type": "code",
   "execution_count": 6,
   "id": "653a51c2",
   "metadata": {
    "scrolled": false
   },
   "outputs": [
    {
     "name": "stderr",
     "output_type": "stream",
     "text": [
      "2021-12-08 20:06:10.944122: I tensorflow/compiler/mlir/mlir_graph_optimization_pass.cc:185] None of the MLIR Optimization Passes are enabled (registered 2)\n"
     ]
    },
    {
     "name": "stdout",
     "output_type": "stream",
     "text": [
      "Epoch 1/25\n",
      "880/880 [==============================] - 77s 83ms/step - loss: 0.1830 - val_loss: 0.1374\n",
      "Epoch 2/25\n",
      "880/880 [==============================] - 58s 66ms/step - loss: 0.1285 - val_loss: 0.1211\n",
      "Epoch 3/25\n",
      "880/880 [==============================] - 64s 73ms/step - loss: 0.1179 - val_loss: 0.1150\n",
      "Epoch 4/25\n",
      "880/880 [==============================] - 50s 57ms/step - loss: 0.1126 - val_loss: 0.1103\n",
      "Epoch 5/25\n",
      "880/880 [==============================] - 66s 75ms/step - loss: 0.1091 - val_loss: 0.1073\n",
      "Epoch 6/25\n",
      "880/880 [==============================] - 64s 73ms/step - loss: 0.1065 - val_loss: 0.1052\n",
      "Epoch 7/25\n",
      "880/880 [==============================] - 63s 72ms/step - loss: 0.1043 - val_loss: 0.1038\n",
      "Epoch 8/25\n",
      "880/880 [==============================] - 63s 72ms/step - loss: 0.1027 - val_loss: 0.1022\n",
      "Epoch 9/25\n",
      "880/880 [==============================] - 62s 70ms/step - loss: 0.1012 - val_loss: 0.1011\n",
      "Epoch 10/25\n",
      "880/880 [==============================] - 50s 57ms/step - loss: 0.1001 - val_loss: 0.1000\n",
      "Epoch 11/25\n",
      "880/880 [==============================] - 63s 72ms/step - loss: 0.0991 - val_loss: 0.0985\n",
      "Epoch 12/25\n",
      "880/880 [==============================] - 64s 73ms/step - loss: 0.0983 - val_loss: 0.0982\n",
      "Epoch 13/25\n",
      "880/880 [==============================] - 51s 58ms/step - loss: 0.0975 - val_loss: 0.0974\n",
      "Epoch 14/25\n",
      "880/880 [==============================] - 59s 67ms/step - loss: 0.0969 - val_loss: 0.0975\n",
      "Epoch 15/25\n",
      "880/880 [==============================] - 64s 73ms/step - loss: 0.0963 - val_loss: 0.0960\n",
      "Epoch 16/25\n",
      "880/880 [==============================] - 63s 72ms/step - loss: 0.0958 - val_loss: 0.0955\n",
      "Epoch 17/25\n",
      "880/880 [==============================] - 64s 73ms/step - loss: 0.0953 - val_loss: 0.0954\n",
      "Epoch 18/25\n",
      "880/880 [==============================] - 64s 73ms/step - loss: 0.0949 - val_loss: 0.0954\n",
      "Epoch 19/25\n",
      "880/880 [==============================] - 63s 72ms/step - loss: 0.0944 - val_loss: 0.0943\n",
      "Epoch 20/25\n",
      "880/880 [==============================] - 64s 72ms/step - loss: 0.0940 - val_loss: 0.0941\n",
      "Epoch 21/25\n",
      "880/880 [==============================] - 62s 71ms/step - loss: 0.0937 - val_loss: 0.0943\n",
      "Epoch 22/25\n",
      "880/880 [==============================] - 63s 72ms/step - loss: 0.0934 - val_loss: 0.0932\n",
      "Epoch 23/25\n",
      "880/880 [==============================] - 65s 74ms/step - loss: 0.0931 - val_loss: 0.0935\n",
      "Epoch 24/25\n",
      "880/880 [==============================] - 53s 61ms/step - loss: 0.0928 - val_loss: 0.0934\n",
      "Epoch 25/25\n",
      "880/880 [==============================] - 58s 66ms/step - loss: 0.0926 - val_loss: 0.0940\n"
     ]
    }
   ],
   "source": [
    "BS = 32\n",
    "EPOCHS = 25\n",
    "his = autoencoder.fit(x_train, x_train,\n",
    "validation_data = (x_test, x_test),\n",
    "epochs = EPOCHS,\n",
    "batch_size = BS)"
   ]
  },
  {
   "cell_type": "markdown",
   "id": "c2e6571d",
   "metadata": {},
   "source": [
    "## Present Results"
   ]
  },
  {
   "cell_type": "markdown",
   "id": "6b20fddb",
   "metadata": {},
   "source": [
    "#### plot diagnostic learning curves"
   ]
  },
  {
   "cell_type": "code",
   "execution_count": 7,
   "id": "48e903d3",
   "metadata": {
    "scrolled": false
   },
   "outputs": [
    {
     "data": {
      "image/png": "[encoded data removed]",
      "text/plain": [
       "<Figure size 432x288 with 1 Axes>"
      ]
     },
     "metadata": {
      "needs_background": "light"
     },
     "output_type": "display_data"
    },
    {
     "data": {
      "text/plain": [
       "<Figure size 432x288 with 0 Axes>"
      ]
     },
     "metadata": {},
     "output_type": "display_data"
    }
   ],
   "source": [
    "get_loss = his.history['loss']\n",
    "validation_loss = his.history['val_loss']\n",
    "epochs = range(len(get_loss))\n",
    "plt.plot(epochs, get_loss, 'r', label='Loss of Training data')\n",
    "plt.plot(epochs, validation_loss, 'b', label='Loss of Validation data')\n",
    "plt.title('Training vs validation loss')\n",
    "plt.legend(loc=0)\n",
    "plt.figure()\n",
    "plt.show()"
   ]
  },
  {
   "cell_type": "markdown",
   "id": "351b975b",
   "metadata": {},
   "source": [
    "The training process has been stable and shows no signs of over-adjustment."
   ]
  },
  {
   "cell_type": "code",
   "execution_count": 8,
   "id": "e212a996",
   "metadata": {},
   "outputs": [],
   "source": [
    "## reconstructed images"
   ]
  },
  {
   "cell_type": "code",
   "execution_count": 10,
   "id": "a7cd0c90",
   "metadata": {
    "scrolled": true
   },
   "outputs": [
    {
     "data": {
      "image/png": "[encoded data removed]",
      "text/plain": [
       "<Figure size 1440x288 with 20 Axes>"
      ]
     },
     "metadata": {
      "needs_background": "light"
     },
     "output_type": "display_data"
    }
   ],
   "source": [
    "decoded_imgs = autoencoder.predict(x_test)\n",
    "n = 10\n",
    "plt.figure(figsize=(20, 4))\n",
    "plt.gray()\n",
    "for i in range(1, n + 1):\n",
    "    # Display original\n",
    "    ax = plt.subplot(2, n, i)\n",
    "    plt.imshow(x_test[i].reshape(28, 28))\n",
    "    ax.get_xaxis().set_visible(False)\n",
    "    ax.get_yaxis().set_visible(False)\n",
    "    # Display reconstruction\n",
    "    ax = plt.subplot(2, n, i + n)\n",
    "    plt.imshow(decoded_imgs[i].reshape(28, 28))\n",
    "    ax.get_xaxis().set_visible(False)\n",
    "    ax.get_yaxis().set_visible(False)\n",
    "plt.show()"
   ]
  },
  {
   "cell_type": "markdown",
   "id": "7bd6772f",
   "metadata": {},
   "source": [
    "The autoencoder was able to reconstruct the image correctly."
   ]
  }
 ],
 "metadata": {
  "kernelspec": {
   "display_name": "Python 3 (ipykernel)",
   "language": "python",
   "name": "python3"
  },
  "language_info": {
   "codemirror_mode": {
    "name": "ipython",
    "version": 3
   },
   "file_extension": ".py",
   "mimetype": "text/x-python",
   "name": "python",
   "nbconvert_exporter": "python",
   "pygments_lexer": "ipython3",
   "version": "3.9.6"
  }
 },
 "nbformat": 4,
 "nbformat_minor": 5
}
