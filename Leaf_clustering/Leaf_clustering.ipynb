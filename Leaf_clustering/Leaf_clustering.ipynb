{
 "cells": [
  {
   "cell_type": "markdown",
   "source": [
    "# Clustering\r\n"
   ],
   "metadata": {}
  },
  {
   "cell_type": "markdown",
   "source": [
    "Figure showing examples of pairs of datasets and clustering algorithms, on 2D datasets, except the last dataset. The parameters for each of these pairs were tuned to produce good clustering results. Some algorithms are more sensitive to parameter values than others."
   ],
   "metadata": {}
  },
  {
   "cell_type": "markdown",
   "source": [
    "![title](sphx_glr_plot_cluster_comparison_001.png)"
   ],
   "metadata": {}
  },
  {
   "cell_type": "markdown",
   "source": [
    "# Clustering Leaf images"
   ],
   "metadata": {}
  },
  {
   "cell_type": "markdown",
   "source": [
    "Using Keras Pre-trained Models for Feature Extraction in Image Clustering\r\n"
   ],
   "metadata": {}
  },
  {
   "cell_type": "markdown",
   "source": [
    "### import libraries"
   ],
   "metadata": {}
  },
  {
   "cell_type": "code",
   "execution_count": 1,
   "source": [
    "from keras.preprocessing import image\r\n",
    "from keras.applications.vgg16 import VGG16\r\n",
    "from keras.applications.vgg16 import preprocess_input\r\n",
    "import numpy as np\r\n",
    "from sklearn.cluster import KMeans\r\n",
    "from sklearn.cluster import AgglomerativeClustering\r\n",
    "from sklearn import metrics\r\n",
    "from sklearn.metrics import pairwise_distances\r\n",
    "from matplotlib import pyplot as plt\r\n",
    "import os, shutil, glob, os.path\r\n",
    "import cv2 as cv"
   ],
   "outputs": [],
   "metadata": {}
  },
  {
   "cell_type": "markdown",
   "source": [
    "### Import the pre-trained model"
   ],
   "metadata": {}
  },
  {
   "cell_type": "code",
   "execution_count": 2,
   "source": [
    "# import the VGG16 model : \r\n",
    "  \r\n",
    "image.LOAD_TRUNCATED_IMAGES = True \r\n",
    "model = VGG16(weights='imagenet', include_top=False)\r\n",
    "model.summary()"
   ],
   "outputs": [
    {
     "output_type": "stream",
     "name": "stdout",
     "text": [
      "Model: \"vgg16\"\n",
      "_________________________________________________________________\n",
      "Layer (type)                 Output Shape              Param #   \n",
      "=================================================================\n",
      "input_1 (InputLayer)         [(None, None, None, 3)]   0         \n",
      "_________________________________________________________________\n",
      "block1_conv1 (Conv2D)        (None, None, None, 64)    1792      \n",
      "_________________________________________________________________\n",
      "block1_conv2 (Conv2D)        (None, None, None, 64)    36928     \n",
      "_________________________________________________________________\n",
      "block1_pool (MaxPooling2D)   (None, None, None, 64)    0         \n",
      "_________________________________________________________________\n",
      "block2_conv1 (Conv2D)        (None, None, None, 128)   73856     \n",
      "_________________________________________________________________\n",
      "block2_conv2 (Conv2D)        (None, None, None, 128)   147584    \n",
      "_________________________________________________________________\n",
      "block2_pool (MaxPooling2D)   (None, None, None, 128)   0         \n",
      "_________________________________________________________________\n",
      "block3_conv1 (Conv2D)        (None, None, None, 256)   295168    \n",
      "_________________________________________________________________\n",
      "block3_conv2 (Conv2D)        (None, None, None, 256)   590080    \n",
      "_________________________________________________________________\n",
      "block3_conv3 (Conv2D)        (None, None, None, 256)   590080    \n",
      "_________________________________________________________________\n",
      "block3_pool (MaxPooling2D)   (None, None, None, 256)   0         \n",
      "_________________________________________________________________\n",
      "block4_conv1 (Conv2D)        (None, None, None, 512)   1180160   \n",
      "_________________________________________________________________\n",
      "block4_conv2 (Conv2D)        (None, None, None, 512)   2359808   \n",
      "_________________________________________________________________\n",
      "block4_conv3 (Conv2D)        (None, None, None, 512)   2359808   \n",
      "_________________________________________________________________\n",
      "block4_pool (MaxPooling2D)   (None, None, None, 512)   0         \n",
      "_________________________________________________________________\n",
      "block5_conv1 (Conv2D)        (None, None, None, 512)   2359808   \n",
      "_________________________________________________________________\n",
      "block5_conv2 (Conv2D)        (None, None, None, 512)   2359808   \n",
      "_________________________________________________________________\n",
      "block5_conv3 (Conv2D)        (None, None, None, 512)   2359808   \n",
      "_________________________________________________________________\n",
      "block5_pool (MaxPooling2D)   (None, None, None, 512)   0         \n",
      "=================================================================\n",
      "Total params: 14,714,688\n",
      "Trainable params: 14,714,688\n",
      "Non-trainable params: 0\n",
      "_________________________________________________________________\n"
     ]
    }
   ],
   "metadata": {}
  },
  {
   "cell_type": "markdown",
   "source": [
    "### Data preparation and train the model of clustering\r\n",
    "\r\n",
    "program iterating a set of images and collecting their features into a list, then applying kMeans in Scikit-Learn to cluster the features."
   ],
   "metadata": {}
  },
  {
   "cell_type": "code",
   "execution_count": 3,
   "source": [
    "\r\n",
    "# Variables\r\n",
    "imdir = 'images/'\r\n",
    "number_clusters = 99\r\n",
    "\r\n",
    "# Loop over files and get features\r\n",
    "filelist = glob.glob(os.path.join(imdir, '*.jpg'))\r\n",
    "#filelist.sort()\r\n",
    "featurelist = []\r\n",
    "for i, imagepath in enumerate(filelist):\r\n",
    "    print(\"    Status: %s / %s\" %(i, len(filelist)), end=\"\\r\")\r\n",
    "    img = image.load_img(imagepath, target_size=(224, 224))\r\n",
    "    img_data = image.img_to_array(img)\r\n",
    "    img_data = np.expand_dims(img_data, axis=0)\r\n",
    "    img_data = preprocess_input(img_data)\r\n",
    "    features = np.array(model.predict(img_data))\r\n",
    "    featurelist.append(features.flatten())\r\n"
   ],
   "outputs": [
    {
     "output_type": "stream",
     "name": "stdout",
     "text": []
    }
   ],
   "metadata": {}
  },
  {
   "cell_type": "code",
   "execution_count": 33,
   "source": [
    "plt.imshow(img)"
   ],
   "outputs": [
    {
     "output_type": "execute_result",
     "data": {
      "text/plain": [
       "<matplotlib.image.AxesImage at 0x2628c7b3700>"
      ]
     },
     "metadata": {},
     "execution_count": 33
    },
    {
     "output_type": "display_data",
     "data": {
      "image/png": "[encoded data removed]",
      "text/plain": [
       "<Figure size 432x288 with 1 Axes>"
      ]
     },
     "metadata": {
      "needs_background": "light"
     }
    }
   ],
   "metadata": {}
  },
  {
   "cell_type": "markdown",
   "source": [
    "## Clustering"
   ],
   "metadata": {}
  },
  {
   "cell_type": "markdown",
   "source": [
    "### Method 1 \"AgglomerativeClustering\""
   ],
   "metadata": {}
  },
  {
   "cell_type": "code",
   "execution_count": 5,
   "source": [
    "clustering = AgglomerativeClustering(n_clusters=number_clusters, affinity='euclidean').fit(featurelist)\r\n",
    "\r\n",
    "\r\n",
    "# Copy images renamed by cluster \r\n",
    "targetdir = 'out/'\r\n",
    "# Check if target dir exists\r\n",
    "\r\n",
    "try:\r\n",
    "    os.makedirs(targetdir)\r\n",
    "except OSError:\r\n",
    "    pass\r\n",
    "# Copy with cluster name\r\n",
    "print(\"\\n\")\r\n",
    "for i, m in enumerate(clustering.labels_):\r\n",
    "    print(\"    Copy: %s / %s\" %(i, len(clustering.labels_)), end=\"\\r\")\r\n",
    "    shutil.copy(filelist[i], targetdir + str(m) + \"_\" + str(i) + \".jpg\")"
   ],
   "outputs": [
    {
     "output_type": "stream",
     "name": "stdout",
     "text": [
      "\n",
      "\n"
     ]
    }
   ],
   "metadata": {}
  },
  {
   "cell_type": "markdown",
   "source": [
    "### Method 2 \"KMeans\""
   ],
   "metadata": {}
  },
  {
   "cell_type": "code",
   "execution_count": 23,
   "source": [
    "# Clustering\r\n",
    "kmeans = KMeans(n_clusters=number_clusters, random_state=0).fit(np.array(featurelist))\r\n",
    "\r\n",
    "\r\n",
    "# Copy images renamed by cluster \r\n",
    "targetdir = \"outdir/\"\r\n",
    "# Check if target dir exists\r\n",
    "try:\r\n",
    "    os.makedirs(targetdir)\r\n",
    "except OSError:\r\n",
    "    pass\r\n",
    "# Copy with cluster name\r\n",
    "print(\"\\n\")\r\n",
    "for i, m in enumerate(kmeans.labels_):\r\n",
    "    print(\"    Copy: %s / %s\" %(i, len(kmeans.labels_)), end=\"\\r\")\r\n",
    "    shutil.copy(filelist[i], targetdir + str(m) + \"_\" + str(i) + \".jpg\")"
   ],
   "outputs": [
    {
     "output_type": "stream",
     "name": "stdout",
     "text": [
      "\n",
      "\n"
     ]
    }
   ],
   "metadata": {}
  },
  {
   "cell_type": "markdown",
   "source": [
    "## Results\r\n"
   ],
   "metadata": {}
  },
  {
   "cell_type": "markdown",
   "source": [
    "Display the first 9 images that have been clustered in class 0"
   ],
   "metadata": {}
  },
  {
   "cell_type": "code",
   "execution_count": 25,
   "source": [
    "directory='outdir/'\r\n",
    "plt.figure()\r\n",
    "for i, file in enumerate(os.listdir(directory)[0:9]):\r\n",
    "    fullpath = 'outdir/' + file\r\n",
    "    print(fullpath)\r\n",
    "    img = cv.imread(fullpath)\r\n",
    "    plt.subplot(3, 3, i+1)\r\n",
    "    #fig, axs = plt.subplots(ncols=5)\r\n",
    "    plt.imshow(img)\r\n",
    "plt.show()"
   ],
   "outputs": [
    {
     "output_type": "stream",
     "name": "stdout",
     "text": [
      "outdir/0_1037.jpg\n",
      "outdir/0_1065.jpg\n",
      "outdir/0_113.jpg\n",
      "outdir/0_1216.jpg\n",
      "outdir/0_1228.jpg\n",
      "outdir/0_1322.jpg\n",
      "outdir/0_1340.jpg\n",
      "outdir/0_1382.jpg\n",
      "outdir/0_1434.jpg\n"
     ]
    },
    {
     "output_type": "display_data",
     "data": {
      "image/png": "[encoded data removed]",
      "text/plain": [
       "<Figure size 432x288 with 9 Axes>"
      ]
     },
     "metadata": {
      "needs_background": "light"
     }
    }
   ],
   "metadata": {}
  },
  {
   "cell_type": "markdown",
   "source": [
    "## Metrics"
   ],
   "metadata": {}
  },
  {
   "cell_type": "markdown",
   "source": [
    "### Silhouette_score"
   ],
   "metadata": {}
  },
  {
   "cell_type": "markdown",
   "source": [
    "Internal Cluster Validation: investigating the structure of clustering results without information outside of the dataset, i.e., without the known labels. We will use Silhouette Coeffecient in Scikit-Learn for internal cluster validation. The measure is bounded between -1 for incorrect clustering and 1 for highly dense clustering. Scores around zero indicate overlapping clusters."
   ],
   "metadata": {}
  },
  {
   "cell_type": "markdown",
   "source": [
    "for Method : AgglomerativeClustering"
   ],
   "metadata": {}
  },
  {
   "cell_type": "code",
   "execution_count": 27,
   "source": [
    "labels_AgglomerativeClustering  = clustering.labels_\r\n",
    "metrics.silhouette_score(featurelist, labels_AgglomerativeClustering, metric='euclidean')"
   ],
   "outputs": [
    {
     "output_type": "execute_result",
     "data": {
      "text/plain": [
       "0.11852571"
      ]
     },
     "metadata": {},
     "execution_count": 27
    }
   ],
   "metadata": {}
  },
  {
   "cell_type": "markdown",
   "source": [
    "for Method : kmeans"
   ],
   "metadata": {}
  },
  {
   "cell_type": "code",
   "execution_count": 28,
   "source": [
    "labels_kmeans  = kmeans.labels_\r\n",
    "metrics.silhouette_score(featurelist, labels_kmeans, metric='euclidean')"
   ],
   "outputs": [
    {
     "output_type": "execute_result",
     "data": {
      "text/plain": [
       "0.1108474"
      ]
     },
     "metadata": {},
     "execution_count": 28
    }
   ],
   "metadata": {}
  }
 ],
 "metadata": {
  "orig_nbformat": 4,
  "language_info": {
   "name": "python",
   "version": "3.9.7",
   "mimetype": "text/x-python",
   "codemirror_mode": {
    "name": "ipython",
    "version": 3
   },
   "pygments_lexer": "ipython3",
   "nbconvert_exporter": "python",
   "file_extension": ".py"
  },
  "kernelspec": {
   "name": "python3",
   "display_name": "Python 3.9.7 64-bit ('deep': conda)"
  },
  "interpreter": {
   "hash": "ee8252ba3b84b4d2428130e00067f3b77beb4675cf8d968e38b1fc79fa92185f"
  }
 },
 "nbformat": 4,
 "nbformat_minor": 2
}