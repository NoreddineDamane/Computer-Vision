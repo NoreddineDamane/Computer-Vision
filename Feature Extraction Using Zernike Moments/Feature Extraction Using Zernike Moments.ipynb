{
 "cells": [
  {
   "cell_type": "markdown",
   "source": [
    "# import required libraries"
   ],
   "metadata": {}
  },
  {
   "cell_type": "code",
   "execution_count": 2,
   "source": [
    "import numpy as np\r\n",
    "from numpy import cos, sin, conjugate, pi, sqrt\r\n",
    "from math import factorial, atan2\r\n",
    "from cmath import exp\r\n",
    "import cmath\r\n",
    "import matplotlib.pyplot as plt\r\n",
    "import cv2\r\n",
    "from pylab import gray, imshow, show \r\n",
    "import matplotlib.pyplot as plt \r\n",
    "import pathlib\r\n",
    "from os import listdir\r\n",
    "from os.path import isfile, join"
   ],
   "outputs": [],
   "metadata": {}
  },
  {
   "cell_type": "markdown",
   "source": [
    "# polynômes radiaux de Zernike"
   ],
   "metadata": {}
  },
  {
   "cell_type": "code",
   "execution_count": 3,
   "source": [
    "def polyradial(r,n,m):\r\n",
    "    Rnm = np.zeros(r.shape)\r\n",
    "    for s in range(0, ((n-abs(m))//2)+1):\r\n",
    "        c = (-1)**(s) * ( factorial(n-s) / ((factorial(s)) * (factorial((n+abs(m))/2-s)) * (factorial((n-abs(m))/2-s))))\r\n",
    "        Rnm = Rnm + c *  r**(n - 2*s)\r\n",
    "        #print(\"s=\",s)\r\n",
    "    return Rnm\r\n"
   ],
   "outputs": [],
   "metadata": {}
  },
  {
   "cell_type": "markdown",
   "source": [
    "# zernike moments"
   ],
   "metadata": {}
  },
  {
   "cell_type": "code",
   "execution_count": 4,
   "source": [
    "def Zernikmoment(img,n,m):\r\n",
    "    N  = img.shape[0]\r\n",
    "    x = np.arange(0 , N)\r\n",
    "    x = np.array([x])\r\n",
    "    y = x\r\n",
    "    X, Y = np.meshgrid(x, y)\r\n",
    "    R = np.sqrt((2*X-N+1)**2+(N-1-2*Y)**2) / N\r\n",
    "    Theta = np.arctan2((N-1-2*Y),(2*X-N+1))\r\n",
    "    R[R>1]= 0 # r inside unit circle\r\n",
    "    Rnm = polyradial(R,n,m)\r\n",
    "    Product = img*Rnm*np.exp(-1j*m*Theta)\r\n",
    "    #Z = (Product).sum()\r\n",
    "    Z = (Product.ravel()).sum()\r\n",
    "    cnt = np.count_nonzero(R) # count the number of pixels inside the unit circle\r\n",
    "    Z = (n+1)*Z/cnt # normalize the amplitude of moments\r\n",
    "    A = abs(Z)\r\n",
    "    Phi = np.angle(Z)*180/pi\r\n",
    "    return Z, A, Phi"
   ],
   "outputs": [],
   "metadata": {}
  },
  {
   "cell_type": "markdown",
   "source": [
    "# main"
   ],
   "metadata": {}
  },
  {
   "cell_type": "code",
   "execution_count": 5,
   "source": [
    "print('les moments ART pour n= 2 et m= 4')\r\n",
    "n= 5; m= 1\r\n",
    "mypath=r'E:\\indexaxtion dimage\\moments ART\\images de test'\r\n",
    "onlyfiles = [ f for f in listdir(mypath) if isfile(join(mypath,f)) ]\r\n",
    "images = np.empty(len(onlyfiles), dtype=object)\r\n",
    "for i in range(0, len(onlyfiles)):\r\n",
    "    paths = join(mypath,onlyfiles[i])\r\n",
    "    images[i] = cv2.imread( paths,-1)\r\n",
    "    img = cv2.cvtColor(images[i], cv2.COLOR_BGR2GRAY)\r\n",
    "    img = np.logical_not(img)\r\n",
    "    img = ~img\r\n",
    "    fig   = plt.figure(1, figsize=(10,10))\r\n",
    "    plt.subplot(2,3,i+1)\r\n",
    "    plt.imshow(img, cmap=\"gray\")\r\n",
    "    Z, A, Phi = Zernikmoment(img,n,m);      # Call Zernikemoment fuction\r\n",
    "   \r\n",
    "    #plt.title('(amplitude,phase) ='+repr(Amp))\r\n",
    "    plt.xlabel('Amplitude: {} \\n  Phase: {}'.format(A, Phi))\r\n",
    "    #print(\"les amplitudes=\",Amp)\r\n",
    "    #print('les phases= ',Phi)\r\n",
    "plt.show()"
   ],
   "outputs": [
    {
     "output_type": "stream",
     "name": "stdout",
     "text": [
      "les moments ART pour n= 2 et m= 4\n"
     ]
    },
    {
     "output_type": "display_data",
     "data": {
      "image/png": "[encoded data removed]",
      "text/plain": [
       "<Figure size 720x720 with 6 Axes>"
      ]
     },
     "metadata": {
      "needs_background": "light"
     }
    }
   ],
   "metadata": {}
  },
  {
   "cell_type": "markdown",
   "source": [
    "# Calculate higher order moments"
   ],
   "metadata": {}
  },
  {
   "cell_type": "markdown",
   "source": [
    "### define the order n and the repetition m "
   ],
   "metadata": {}
  },
  {
   "cell_type": "code",
   "execution_count": 8,
   "source": [
    "m = []\r\n",
    "n = []\r\n",
    "N = np.arange(0 , 8)\r\n",
    "M = np.arange(0 , 8)\r\n",
    "for i in range (0,8):\r\n",
    "    for j in range (0,8):\r\n",
    "        if(((N[i] - abs(M[j])) % 2 == 0 ) and (abs(M[j]) <= N[i])): # n - |m| = pair et |m| <= n\r\n",
    "            n.append(N[i])\r\n",
    "            m.append(M[j])\r\n",
    "            print((N[i],M[j]))\r\n",
    "print(\"order n = \",n)\r\n",
    "print(len(n))\r\n",
    "print(\"repition m = \",m)\r\n",
    "print(len(m))\r\n",
    "\r\n",
    "\r\n"
   ],
   "outputs": [
    {
     "output_type": "stream",
     "name": "stdout",
     "text": [
      "(0, 0)\n",
      "(1, 1)\n",
      "(2, 0)\n",
      "(2, 2)\n",
      "(3, 1)\n",
      "(3, 3)\n",
      "(4, 0)\n",
      "(4, 2)\n",
      "(4, 4)\n",
      "(5, 1)\n",
      "(5, 3)\n",
      "(5, 5)\n",
      "(6, 0)\n",
      "(6, 2)\n",
      "(6, 4)\n",
      "(6, 6)\n",
      "(7, 1)\n",
      "(7, 3)\n",
      "(7, 5)\n",
      "(7, 7)\n",
      "order n =  [0, 1, 2, 2, 3, 3, 4, 4, 4, 5, 5, 5, 6, 6, 6, 6, 7, 7, 7, 7]\n",
      "20\n",
      "repition m =  [0, 1, 0, 2, 1, 3, 0, 2, 4, 1, 3, 5, 0, 2, 4, 6, 1, 3, 5, 7]\n",
      "20\n"
     ]
    }
   ],
   "metadata": {}
  },
  {
   "cell_type": "code",
   "execution_count": 15,
   "source": [
    "mypath=r'E:\\indexaxtion dimage\\moments ART\\images de test'\r\n",
    "onlyfiles = [ f for f in listdir(mypath) if isfile(join(mypath,f)) ]\r\n",
    "images = np.empty(len(onlyfiles), dtype=object)\r\n",
    "for i in range(0, len(onlyfiles)):\r\n",
    "    paths = join(mypath,onlyfiles[i])\r\n",
    "    images[i] = cv2.imread( paths,-1)\r\n",
    "    img = cv2.cvtColor(images[i], cv2.COLOR_BGR2GRAY)\r\n",
    "    img = np.logical_not(img)\r\n",
    "    #img = ~img\r\n",
    "    fig   = plt.figure(1, figsize=(10,10))\r\n",
    "    plt.subplot(2,3,i+1)\r\n",
    "    plt.imshow(img, cmap=\"gray\")\r\n",
    "    A_Z_m = []\r\n",
    "    for i in range (0,20):\r\n",
    "    \r\n",
    "        [Z, A, Phi] = Zernikmoment(img,n[i],m[i])    # Call Zernikemoment fuction\r\n",
    "        A_Z_m.append(round(A,5)) \r\n",
    "    plt.show()    \r\n",
    "    print('****************************** Résultats**********************************')\r\n",
    "    print('amplitude of moments = ', A_Z_m)\r\n",
    "    #print('phase of the mement (in degrees) = ', Phi)"
   ],
   "outputs": [
    {
     "output_type": "display_data",
     "data": {
      "image/png": "[encoded data removed]",
      "text/plain": [
       "<Figure size 720x720 with 1 Axes>"
      ]
     },
     "metadata": {
      "needs_background": "light"
     }
    },
    {
     "output_type": "stream",
     "name": "stdout",
     "text": [
      "****************************** Résultats**********************************\n",
      "amplitude of moments =  [0.15236, 0.00344, 0.3724, 0.02399, 0.00995, 0.00111, 0.39919, 0.09026, 0.00423, 0.01276, 0.00462, 0.00031, 0.25609, 0.15929, 0.02136, 0.0008, 0.01065, 0.00873, 0.00166, 8e-05]\n"
     ]
    },
    {
     "output_type": "display_data",
     "data": {
      "image/png": "[encoded data removed]",
      "text/plain": [
       "<Figure size 720x720 with 1 Axes>"
      ]
     },
     "metadata": {
      "needs_background": "light"
     }
    },
    {
     "output_type": "stream",
     "name": "stdout",
     "text": [
      "****************************** Résultats**********************************\n",
      "amplitude of moments =  [0.15605, 0.00347, 0.37968, 0.02486, 0.01, 0.00111, 0.4025, 0.09294, 0.00441, 0.01271, 0.0046, 0.0003, 0.25152, 0.1622, 0.0221, 0.00082, 0.01039, 0.00864, 0.00161, 8e-05]\n"
     ]
    },
    {
     "output_type": "display_data",
     "data": {
      "image/png": "[encoded data removed]",
      "text/plain": [
       "<Figure size 720x720 with 1 Axes>"
      ]
     },
     "metadata": {
      "needs_background": "light"
     }
    },
    {
     "output_type": "stream",
     "name": "stdout",
     "text": [
      "****************************** Résultats**********************************\n",
      "amplitude of moments =  [0.15605, 0.00347, 0.37968, 0.02486, 0.01, 0.00111, 0.4025, 0.09294, 0.00441, 0.01271, 0.0046, 0.0003, 0.25152, 0.1622, 0.0221, 0.00082, 0.01039, 0.00864, 0.00161, 8e-05]\n"
     ]
    },
    {
     "output_type": "display_data",
     "data": {
      "image/png": "[encoded data removed]",
      "text/plain": [
       "<Figure size 720x720 with 1 Axes>"
      ]
     },
     "metadata": {
      "needs_background": "light"
     }
    },
    {
     "output_type": "stream",
     "name": "stdout",
     "text": [
      "****************************** Résultats**********************************\n",
      "amplitude of moments =  [0.19951, 0.00451, 0.44721, 0.04249, 0.01138, 0.00192, 0.38702, 0.14797, 0.00252, 0.01187, 0.00717, 0.00017, 0.14223, 0.22689, 0.01191, 0.00224, 0.01101, 0.01104, 0.00087, 0.0002]\n"
     ]
    },
    {
     "output_type": "display_data",
     "data": {
      "image/png": "[encoded data removed]",
      "text/plain": [
       "<Figure size 720x720 with 1 Axes>"
      ]
     },
     "metadata": {
      "needs_background": "light"
     }
    },
    {
     "output_type": "stream",
     "name": "stdout",
     "text": [
      "****************************** Résultats**********************************\n",
      "amplitude of moments =  [0.24853, 0.0409, 0.53741, 0.02229, 0.1076, 0.0043, 0.4122, 0.06886, 0.00783, 0.09988, 0.01606, 0.00116, 0.0611, 0.08547, 0.0321, 0.0026, 0.0159, 0.02395, 0.00611, 0.00099]\n"
     ]
    },
    {
     "output_type": "display_data",
     "data": {
      "image/png": "[encoded data removed]",
      "text/plain": [
       "<Figure size 720x720 with 1 Axes>"
      ]
     },
     "metadata": {
      "needs_background": "light"
     }
    },
    {
     "output_type": "stream",
     "name": "stdout",
     "text": [
      "****************************** Résultats**********************************\n",
      "amplitude of moments =  [0.24853, 0.0409, 0.53741, 0.02229, 0.1076, 0.0043, 0.4122, 0.06886, 0.00783, 0.09988, 0.01606, 0.00116, 0.0611, 0.08547, 0.0321, 0.0026, 0.0159, 0.02395, 0.00611, 0.00099]\n"
     ]
    }
   ],
   "metadata": {}
  }
 ],
 "metadata": {
  "kernelspec": {
   "name": "python3",
   "display_name": "Python 3.9.7 64-bit ('deep': conda)"
  },
  "language_info": {
   "codemirror_mode": {
    "name": "ipython",
    "version": 3
   },
   "file_extension": ".py",
   "mimetype": "text/x-python",
   "name": "python",
   "nbconvert_exporter": "python",
   "pygments_lexer": "ipython3",
   "version": "3.9.7"
  },
  "interpreter": {
   "hash": "ee8252ba3b84b4d2428130e00067f3b77beb4675cf8d968e38b1fc79fa92185f"
  }
 },
 "nbformat": 4,
 "nbformat_minor": 4
}