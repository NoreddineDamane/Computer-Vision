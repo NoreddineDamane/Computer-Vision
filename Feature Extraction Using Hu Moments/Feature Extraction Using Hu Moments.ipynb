{
 "cells": [
  {
   "cell_type": "markdown",
   "metadata": {},
   "source": [
    "# Features Extraction Using Hu Moments "
   ]
  },
  {
   "cell_type": "markdown",
   "metadata": {},
   "source": [
    "## Import required libraries"
   ]
  },
  {
   "cell_type": "code",
   "execution_count": 1,
   "metadata": {},
   "outputs": [],
   "source": [
    "import os\n",
    "import cv2 as cv\n",
    "import numpy as np\n",
    "import pandas as pd\n",
    "from matplotlib import pyplot as plt"
   ]
  },
  {
   "cell_type": "markdown",
   "metadata": {},
   "source": [
    "## Calculate Hu moments "
   ]
  },
  {
   "cell_type": "code",
   "execution_count": 2,
   "metadata": {},
   "outputs": [],
   "source": [
    "def m_pq(f, p, q):\n",
    "    m = 0\n",
    "    for x in range(0, len(f)):\n",
    "        for y in range(0, len(f[0])):\n",
    "            m += ((x+1)**p)*((y+1)**q)*f[x][y]\n",
    "    return m\n",
    "\n",
    "\n",
    "def centroid(f):\n",
    "    m_00 = m_pq(f, 0, 0)\n",
    "    return [m_pq(f, 1, 0)/m_00, m_pq(f, 0 ,1)/m_00]\n",
    "\n",
    "\n",
    "def u_pq(f, p, q):\n",
    "    u = 0\n",
    "    centre = centroid(f)\n",
    "    for x in range(0, len(f)):\n",
    "        for y in range(0, len(f[0])):\n",
    "            u += ((x-centre[0]+1)**p)*((y-centre[1]+1)**q)*f[x][y]\n",
    "    return u\n",
    "\n",
    "\n",
    "def hu(f):\n",
    "    u_00 = u_pq(f, 0, 0)\n",
    "    eta = lambda f, p, q: u_pq(f, p, q)/(u_00**((p+q+2)/2))\n",
    "\n",
    "    # normalisation des moments centraux pour le calcul des 7 moments hu\n",
    "    eta_20 = eta(f, 2, 0)\n",
    "    eta_02 = eta(f, 0, 2)\n",
    "    eta_11 = eta(f, 1, 1)\n",
    "    eta_12 = eta(f, 1, 2)\n",
    "    eta_21 = eta(f, 2, 1)\n",
    "    eta_30 = eta(f, 3, 0)\n",
    "    eta_03 = eta(f, 0, 3)\n",
    "\n",
    "    # calcul des moments de hu\n",
    "    phi_1 = eta_20 + eta_02\n",
    "    phi_2 = 4*eta_11 + (eta_20-eta_02)**2\n",
    "    phi_3 = (eta_30 - 3*eta_12)**2 + (3*eta_21 - eta_03)**2\n",
    "    phi_4 = (eta_30 + eta_12)**2 + (eta_21 + eta_03)**2\n",
    "    phi_5 = (eta_30 - 3*eta_12)*(eta_30 + eta_12)*((eta_30+eta_12)**2 - 3*(eta_21+eta_03)**2) + (3*eta_21 - eta_03)*(eta_21 + eta_03)*(3*(eta_30 + eta_12) - (eta_21 + eta_03)**2)\n",
    "    phi_6 = (eta_20 - eta_02)*((eta_30 + eta_12)**2 - (eta_21 + eta_03)**2) + 4*eta_11*(eta_30 + eta_12)*(eta_21 + eta_03)\n",
    "    phi_7 = (3*eta_21 - eta_03)*(eta_30 + eta_12)*((eta_30 + eta_12)**2 - 3*(eta_21 + eta_03)**2) - (eta_30 - 3*eta_12)*(eta_21 + eta_03)*(3*(eta_30 + eta_12)**2 - (eta_21 + eta_03)**2)\n",
    "\n",
    "    return [phi_1, phi_2, phi_3, phi_4, phi_5, phi_6, phi_7]\n"
   ]
  },
  {
   "cell_type": "markdown",
   "metadata": {},
   "source": [
    "## Main()"
   ]
  },
  {
   "cell_type": "code",
   "execution_count": 3,
   "metadata": {},
   "outputs": [
    {
     "data": {
      "image/png": "[encoded data removed]",
      "text/plain": [
       "<Figure size 720x720 with 6 Axes>"
      ]
     },
     "metadata": {
      "needs_background": "light"
     },
     "output_type": "display_data"
    },
    {
     "data": {
      "text/html": [
       "<div>\n",
       "<style scoped>\n",
       "    .dataframe tbody tr th:only-of-type {\n",
       "        vertical-align: middle;\n",
       "    }\n",
       "\n",
       "    .dataframe tbody tr th {\n",
       "        vertical-align: top;\n",
       "    }\n",
       "\n",
       "    .dataframe thead th {\n",
       "        text-align: right;\n",
       "    }\n",
       "</style>\n",
       "<table border=\"1\" class=\"dataframe\">\n",
       "  <thead>\n",
       "    <tr style=\"text-align: right;\">\n",
       "      <th></th>\n",
       "      <th>class</th>\n",
       "      <th>hu1</th>\n",
       "      <th>hu2</th>\n",
       "      <th>hu3</th>\n",
       "      <th>hu4</th>\n",
       "      <th>hu5</th>\n",
       "      <th>hu6</th>\n",
       "      <th>hu7</th>\n",
       "    </tr>\n",
       "  </thead>\n",
       "  <tbody>\n",
       "    <tr>\n",
       "      <th>0</th>\n",
       "      <td>Oval_45</td>\n",
       "      <td>0.000756</td>\n",
       "      <td>8.495456e-04</td>\n",
       "      <td>1.530792e-16</td>\n",
       "      <td>1.282563e-15</td>\n",
       "      <td>-1.346697e-23</td>\n",
       "      <td>-3.231877e-19</td>\n",
       "      <td>4.530556e-31</td>\n",
       "    </tr>\n",
       "    <tr>\n",
       "      <th>1</th>\n",
       "      <td>Oval_H</td>\n",
       "      <td>0.000755</td>\n",
       "      <td>-2.905781e-07</td>\n",
       "      <td>1.169891e-15</td>\n",
       "      <td>8.244610e-17</td>\n",
       "      <td>-1.902685e-24</td>\n",
       "      <td>-3.364399e-21</td>\n",
       "      <td>-2.523028e-32</td>\n",
       "    </tr>\n",
       "    <tr>\n",
       "      <th>2</th>\n",
       "      <td>Oval_V</td>\n",
       "      <td>0.000755</td>\n",
       "      <td>6.515322e-07</td>\n",
       "      <td>1.169891e-15</td>\n",
       "      <td>8.244610e-17</td>\n",
       "      <td>3.755687e-24</td>\n",
       "      <td>-3.364399e-21</td>\n",
       "      <td>-2.523028e-32</td>\n",
       "    </tr>\n",
       "    <tr>\n",
       "      <th>3</th>\n",
       "      <td>Rectangular_H</td>\n",
       "      <td>0.000790</td>\n",
       "      <td>1.973790e-07</td>\n",
       "      <td>0.000000e+00</td>\n",
       "      <td>0.000000e+00</td>\n",
       "      <td>0.000000e+00</td>\n",
       "      <td>0.000000e+00</td>\n",
       "      <td>0.000000e+00</td>\n",
       "    </tr>\n",
       "    <tr>\n",
       "      <th>4</th>\n",
       "      <td>Shape_0</td>\n",
       "      <td>0.000667</td>\n",
       "      <td>-3.029845e-04</td>\n",
       "      <td>5.695543e-12</td>\n",
       "      <td>6.458224e-13</td>\n",
       "      <td>1.644139e-18</td>\n",
       "      <td>4.067655e-17</td>\n",
       "      <td>-5.026778e-26</td>\n",
       "    </tr>\n",
       "    <tr>\n",
       "      <th>5</th>\n",
       "      <td>Shape_90</td>\n",
       "      <td>0.000667</td>\n",
       "      <td>3.029952e-04</td>\n",
       "      <td>5.695543e-12</td>\n",
       "      <td>6.458224e-13</td>\n",
       "      <td>-4.735591e-19</td>\n",
       "      <td>4.067655e-17</td>\n",
       "      <td>-5.026778e-26</td>\n",
       "    </tr>\n",
       "  </tbody>\n",
       "</table>\n",
       "</div>"
      ],
      "text/plain": [
       "           class       hu1           hu2           hu3           hu4  \\\n",
       "0        Oval_45  0.000756  8.495456e-04  1.530792e-16  1.282563e-15   \n",
       "1         Oval_H  0.000755 -2.905781e-07  1.169891e-15  8.244610e-17   \n",
       "2         Oval_V  0.000755  6.515322e-07  1.169891e-15  8.244610e-17   \n",
       "3  Rectangular_H  0.000790  1.973790e-07  0.000000e+00  0.000000e+00   \n",
       "4        Shape_0  0.000667 -3.029845e-04  5.695543e-12  6.458224e-13   \n",
       "5       Shape_90  0.000667  3.029952e-04  5.695543e-12  6.458224e-13   \n",
       "\n",
       "            hu5           hu6           hu7  \n",
       "0 -1.346697e-23 -3.231877e-19  4.530556e-31  \n",
       "1 -1.902685e-24 -3.364399e-21 -2.523028e-32  \n",
       "2  3.755687e-24 -3.364399e-21 -2.523028e-32  \n",
       "3  0.000000e+00  0.000000e+00  0.000000e+00  \n",
       "4  1.644139e-18  4.067655e-17 -5.026778e-26  \n",
       "5 -4.735591e-19  4.067655e-17 -5.026778e-26  "
      ]
     },
     "execution_count": 3,
     "metadata": {},
     "output_type": "execute_result"
    }
   ],
   "source": [
    "img_path = \"Test images/\"\n",
    "\n",
    "features = []\n",
    "i=0\n",
    "for f in os.listdir(img_path):\n",
    "    i+=1\n",
    "    fpath = img_path + f\n",
    "    sample = f.replace(\".png\", \"\")\n",
    "    img = cv.imread(fpath, cv.IMREAD_GRAYSCALE)\n",
    "    img_ = cv.bitwise_not(img)\n",
    "    hu_m = hu(img_)\n",
    "    hu_m = np.array(hu_m)\n",
    "    hu_m = [sample] + hu_m.reshape((1, 7)).tolist()[0]\n",
    "    features.append(hu_m)\n",
    "    fig   = plt.figure(1, figsize=(10,10))\n",
    "    plt.subplot(2,3,i)\n",
    "    plt.imshow(img, cmap=\"gray\")\n",
    "    plt.xlabel('hu6: {}'.format(features[0][6]))\n",
    "plt.show()\n",
    "cols = [\"class\", \"hu1\", \"hu2\", \"hu3\", \"hu4\", \"hu5\", \"hu6\", \"hu7\"]\n",
    "df = pd.DataFrame(features, columns=cols)\n",
    "df\n"
   ]
  }
 ],
 "metadata": {
  "interpreter": {
   "hash": "ee8252ba3b84b4d2428130e00067f3b77beb4675cf8d968e38b1fc79fa92185f"
  },
  "kernelspec": {
   "display_name": "Python 3.9.7 64-bit ('deep': conda)",
   "name": "python3"
  },
  "language_info": {
   "codemirror_mode": {
    "name": "ipython",
    "version": 3
   },
   "file_extension": ".py",
   "mimetype": "text/x-python",
   "name": "python",
   "nbconvert_exporter": "python",
   "pygments_lexer": "ipython3",
   "version": "3.9.7"
  },
  "orig_nbformat": 4
 },
 "nbformat": 4,
 "nbformat_minor": 2
}
