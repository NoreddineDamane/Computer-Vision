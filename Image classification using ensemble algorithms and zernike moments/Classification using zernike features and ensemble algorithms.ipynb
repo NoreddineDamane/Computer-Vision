{
 "cells": [
  {
   "cell_type": "markdown",
   "metadata": {},
   "source": [
    "# Classification"
   ]
  },
  {
   "cell_type": "markdown",
   "metadata": {},
   "source": [
    "## import required libraries"
   ]
  },
  {
   "cell_type": "code",
   "execution_count": 1,
   "metadata": {},
   "outputs": [],
   "source": [
    "import numpy as np\n",
    "import math\n",
    "import matplotlib.pyplot as plt\n",
    "import pandas as pd\n",
    "\n",
    "from sklearn.preprocessing import StandardScaler\n",
    "from sklearn.model_selection import train_test_split as data_split\n",
    "\n",
    "from sklearn.tree import DecisionTreeClassifier as DT\n",
    "from sklearn.ensemble import BaggingClassifier as BG\n",
    "from sklearn.ensemble import RandomForestClassifier as RDF\n",
    "\n"
   ]
  },
  {
   "cell_type": "markdown",
   "metadata": {},
   "source": [
    "## Variable initialisation"
   ]
  },
  {
   "cell_type": "code",
   "execution_count": 2,
   "metadata": {},
   "outputs": [],
   "source": [
    "def classification(csv_file, rounds=100, remove_disperse=[]):\n",
    "\tdf = pd.read_csv(csv_file)\n",
    "\t\n",
    "\t#X = df[\"Amplitude\"].astype(complex).astype(float)#.reshape(1, -1)\n",
    "\t#X = [[i, x] for i, x in enumerate(X)]\n",
    "\t#X = df[[\"Amplitude\"]].astype(complex).astype(float)#.reshape(1, -1)\n",
    "\t#X = df.drop([\"class\"], axis=1)\n",
    "\t\n",
    "\tX = df[[\"(5, 1)\", \"(5, 3)\"]]\n",
    "\ty = df[\"class\"]\n",
    "\tresult = {key: {\"score\" : []} for key, value in classifiers.items()}\n",
    "\t\n",
    "\tprint(\"start Classifying...\")\n",
    "\t\n",
    "\tfor i in range(rounds):\n",
    "\t\tX_train, X_test, y_train, y_test = data_split(X, y, test_size=0.3)\n",
    "\t\t\n",
    "\t\tfor name, classifier in classifiers.items():\n",
    "\t\t\t#scaler = StandardScaler()\n",
    "\t\t\t#scaler.fit(X_train)\n",
    "\t\t\t#X_train = scaler.transform(X_train)\n",
    "\t\t\t#X_test = scaler.transform(X_test)\n",
    "\t\t\t\n",
    "\t\t\tclassifier.fit(X_train, y_train)\n",
    "\t\t\tscore = classifier.score(X_test, y_test)\n",
    "\t\t\t\n",
    "\t\t\tresult[name][\"score\"].append(score)\n",
    "\t\t\n",
    "\tprint(\"finish Classification!\")\n",
    "\t\n",
    "\treturn result, X_train, y_train, X_test, y_test, classifier"
   ]
  },
  {
   "cell_type": "code",
   "execution_count": 3,
   "metadata": {},
   "outputs": [],
   "source": [
    "def performances(result, title=\"performances\"):\n",
    "\t\n",
    "\tprint(\"performances: {}\".format(title))\n",
    "\tprint(\"-\"*50)\n",
    "\tprint(\"CLASSIF\\t\\tMEAN\\tMEDIAN\\tMINV\\tMAXV\\tSTD\")\n",
    "\tprint(\"-\"*50)\n",
    "\t\n",
    "\tfor n in result:\n",
    "    \t\t\n",
    "\t\tm = round(np.mean(result[n][\"score\"])*100, 2)\n",
    "\t\tmed = round(np.median(result[n][\"score\"])*100, 2)\n",
    "\t\tminv = round(np.min(result[n][\"score\"])*100, 2)\n",
    "\t\tmaxv = round(np.max(result[n][\"score\"])*100, 2)\n",
    "\t\tstd = round(np.std(result[n][\"score\"])*100, 2)\n",
    "\t\t\n",
    "\t\tprint(\"{:<16}{}\\t{}\\t{}\\t{}\\t{}\".format(n, m, med, minv, maxv, std))\n",
    "\t\n",
    "\tprint(\"-\"*50)\n",
    "\tprint()"
   ]
  },
  {
   "cell_type": "markdown",
   "metadata": {},
   "source": [
    "## Main()"
   ]
  },
  {
   "cell_type": "code",
   "execution_count": 4,
   "metadata": {},
   "outputs": [
    {
     "name": "stdout",
     "output_type": "stream",
     "text": [
      "start Classifying...\n",
      "finish Classification!\n",
      "performances: performances\n",
      "--------------------------------------------------\n",
      "CLASSIF\t\tMEAN\tMEDIAN\tMINV\tMAXV\tSTD\n",
      "--------------------------------------------------\n",
      "Decision Tree   93.02\t93.01\t91.83\t93.9\t0.35\n",
      "Bagging         93.4\t93.43\t92.38\t94.1\t0.3\n",
      "Random Forest   93.72\t93.7\t93.03\t94.46\t0.3\n",
      "--------------------------------------------------\n",
      "\n"
     ]
    },
    {
     "data": {
      "image/png": "[encoded data removed]",
      "text/plain": [
       "<Figure size 432x288 with 1 Axes>"
      ]
     },
     "metadata": {
      "needs_background": "light"
     },
     "output_type": "display_data"
    }
   ],
   "source": [
    "csv_file =\"archive/shapes/Zernik_dataset_ordre20.csv\"\n",
    "\n",
    "classifiers = {\n",
    "\t\"Decision Tree\" : DT(),\n",
    "\t\"Bagging\"       : BG(),\n",
    "\t\"Random Forest\" : RDF()\n",
    "\t}\n",
    "\n",
    "result, x_test, y_test, X_train, y_train, classifier = classification(csv_file)\n",
    "performances(result)\n",
    "\n",
    "# Make a random dataset:\n",
    "height = [np.mean(result['Random Forest']['score']), np.mean(result['Bagging']['score']), np.mean(result['Decision Tree']['score'])]\n",
    "\n",
    "bars = ('Random Forest', 'Bagging','Decision Tree')\n",
    "y_pos = np.arange(len(bars))\n",
    "# generate random colors\n",
    "color = (np.random.random(), np.random.random(), np.random.random())\n",
    "# Create bars\n",
    "plt.bar(y_pos, height,  color = ['r', 'b', 'g'])\n",
    "\n",
    "# Create names on the x-axis\n",
    "plt.xticks(y_pos, bars)\n",
    "\n",
    "plt.xlabel('Score') \n",
    "plt.ylabel('Classifer') \n",
    "  \n",
    "# displaying the title\n",
    "plt.title(\"Mean Srores\")\n",
    "\n",
    "# Show graphic\n",
    "plt.show()"
   ]
  },
  {
   "cell_type": "markdown",
   "metadata": {},
   "source": [
    "# ROC Curve multiclass for Random Forest"
   ]
  },
  {
   "cell_type": "code",
   "execution_count": 6,
   "metadata": {},
   "outputs": [
    {
     "data": {
      "image/png": "[encoded data removed]",
      "text/plain": [
       "<Figure size 360x360 with 1 Axes>"
      ]
     },
     "metadata": {
      "needs_background": "light"
     },
     "output_type": "display_data"
    }
   ],
   "source": [
    "from sklearn.metrics import roc_curve, auc\n",
    "from sklearn.multiclass import OneVsRestClassifier\n",
    "\n",
    "\n",
    "def plot_multiclass_roc(clf, X_test, y_test, n_classes, figsize):\n",
    "    y_score = clf.predict_proba(X_test)\n",
    "    classes=[]\n",
    "    # structures\n",
    "    fpr = dict()\n",
    "    tpr = dict()\n",
    "    roc_auc = dict()\n",
    "    classes= [\"circle\", \"square\", \"star\", \"triangle\"]\n",
    "\n",
    "    # calculate dummies once\n",
    "    y_test_dummies = pd.get_dummies(y_test, drop_first=False).values\n",
    "    for i in range(n_classes):\n",
    "        fpr[i], tpr[i], _ = roc_curve(y_test_dummies[:, i], y_score[:, i])\n",
    "        roc_auc[i] = auc(fpr[i], tpr[i])\n",
    "\n",
    "    # roc for each class\n",
    "    fig, ax = plt.subplots(figsize=figsize)\n",
    "    ax.plot([0, 1], [0, 1], 'k--')\n",
    "    ax.set_xlim([0.0, 1.0])\n",
    "    ax.set_ylim([0.0, 1.05])\n",
    "    ax.set_xlabel('False Positive Rate')\n",
    "    ax.set_ylabel('True Positive Rate')\n",
    "    ax.set_title('ROC Curve multiclass')\n",
    "    for i in range(n_classes):\n",
    "        ax.plot(fpr[i], tpr[i], label=\"ROC curve (area = %0.2f) pour la Classe %i\"  % (roc_auc[i], i))\n",
    "    ax.legend(loc=\"best\")\n",
    "    #ax.grid(alpha=.4)\n",
    "    #sns.despine()\n",
    "    plt.show()\n",
    "\n",
    "\n",
    "plot_multiclass_roc(classifier, x_test, y_test, n_classes=4, figsize=(5, 5))"
   ]
  }
 ],
 "metadata": {
  "interpreter": {
   "hash": "ee8252ba3b84b4d2428130e00067f3b77beb4675cf8d968e38b1fc79fa92185f"
  },
  "kernelspec": {
   "display_name": "Python 3.9.7 64-bit ('deep': conda)",
   "name": "python3"
  },
  "language_info": {
   "codemirror_mode": {
    "name": "ipython",
    "version": 3
   },
   "file_extension": ".py",
   "mimetype": "text/x-python",
   "name": "python",
   "nbconvert_exporter": "python",
   "pygments_lexer": "ipython3",
   "version": "3.9.7"
  },
  "orig_nbformat": 4
 },
 "nbformat": 4,
 "nbformat_minor": 2
}
